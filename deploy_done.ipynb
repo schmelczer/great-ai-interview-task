{
 "cells": [
  {
   "cell_type": "code",
   "execution_count": 1,
   "metadata": {},
   "outputs": [],
   "source": [
    "# todo: export the model from train.ipynb\n",
    "\n",
    "# todo: copy import from train.ipynb\n",
    "# todo: copy normalize() from train.ipynb\n",
    "# todo: copy predict() from train.ipynb\n",
    "\n",
    "# todo: inject saved model into predict()\n",
    "# todo: turn predict() into a GreatAI service\n",
    "\n",
    "# todo: log prediction into output trace"
   ]
  },
  {
   "cell_type": "code",
   "execution_count": 2,
   "metadata": {},
   "outputs": [
    {
     "name": "stderr",
     "output_type": "stream",
     "text": [
      "\u001b[38;5;226mEnvironment variable ENVIRONMENT is not set, defaulting to development mode ‼️\u001b[0m\n",
      "\u001b[38;5;226mCannot find credentials files, defaulting to using ParallelTinyDbDriver\u001b[0m\n",
      "\u001b[38;5;226mThe selected tracing database (ParallelTinyDbDriver) is not recommended for production\u001b[0m\n",
      "\u001b[38;5;226mCannot find credentials files, defaulting to using LargeFileLocal\u001b[0m\n",
      "\u001b[38;5;39mGreatAI (v0.1.10): configured ✅\u001b[0m\n",
      "\u001b[38;5;39m  🔩 tracing_database: ParallelTinyDbDriver\u001b[0m\n",
      "\u001b[38;5;39m  🔩 large_file_implementation: LargeFileLocal\u001b[0m\n",
      "\u001b[38;5;39m  🔩 is_production: False\u001b[0m\n",
      "\u001b[38;5;39m  🔩 should_log_exception_stack: True\u001b[0m\n",
      "\u001b[38;5;39m  🔩 prediction_cache_size: 512\u001b[0m\n",
      "\u001b[38;5;39m  🔩 dashboard_table_size: 50\u001b[0m\n",
      "\u001b[38;5;226mYou still need to check whether you follow all best practices before trusting your deployment.\u001b[0m\n",
      "\u001b[38;5;226m> Find out more at https://se-ml.github.io/practices\u001b[0m\n",
      "\u001b[38;5;39mFetching cached versions of financial-sentiment\u001b[0m\n",
      "\u001b[38;5;39mLatest version of financial-sentiment is 1 (from versions: 0, 1)\u001b[0m\n",
      "\u001b[38;5;39mFile financial-sentiment-1 found in cache\u001b[0m\n"
     ]
    }
   ],
   "source": [
    "from great_ai.utilities import clean\n",
    "from great_ai import use_model, GreatAI, log_metric, ClassificationOutput\n",
    "import re\n",
    "\n",
    "def normalize(text: str) -> str:\n",
    "    cleaned = clean(text, convert_to_ascii=True).lower()\n",
    "    return re.sub(r\"[^a-z]+\", \" \", cleaned)\n",
    "\n",
    "@GreatAI.create\n",
    "@use_model('financial-sentiment')\n",
    "def predict_financial_sentiment(text: str, model) -> ClassificationOutput:\n",
    "    \"\"\"Classify news articles into Negative, Neutral, or Positive classes using a linear SVM.\"\"\"\n",
    "    text = normalize(text)\n",
    "    features = model.named_steps[\"tfidfvectorizer\"].transform([text])\n",
    "    prediction = model.named_steps[\"sgdclassifier\"].predict(features)[0]\n",
    "\n",
    "    explanation = [\n",
    "        (feature_name, weight)\n",
    "        for weight, feature_name in sorted(\n",
    "            (\n",
    "                (feature_weight * feature, feature_name)\n",
    "                for feature_name, feature_weight, feature in zip(\n",
    "                    model.named_steps[\"tfidfvectorizer\"].get_feature_names_out(),\n",
    "                    model.named_steps[\"sgdclassifier\"].coef_[list(model.named_steps[\"sgdclassifier\"].classes_).index(prediction)],\n",
    "                    features.toarray()[0],\n",
    "                )\n",
    "                if feature * feature_weight != 0\n",
    "            ),\n",
    "            reverse=True,\n",
    "        )\n",
    "    ][:10]\n",
    "\n",
    "    log_metric('prediction', prediction, disable_logging=True)\n",
    "\n",
    "    return prediction, explanation"
   ]
  },
  {
   "cell_type": "code",
   "execution_count": 3,
   "metadata": {},
   "outputs": [
    {
     "name": "stderr",
     "output_type": "stream",
     "text": [
      "100%|██████████| 200/200 [00:24<00:00,  8.03it/s]\n"
     ]
    },
    {
     "name": "stdout",
     "output_type": "stream",
     "text": [
      "              precision    recall  f1-score   support\n",
      "\n",
      "    negative       0.45      0.17      0.25        29\n",
      "     neutral       0.70      0.85      0.77       102\n",
      "    positive       0.77      0.72      0.75        69\n",
      "\n",
      "    accuracy                           0.71       200\n",
      "   macro avg       0.64      0.58      0.59       200\n",
      "weighted avg       0.69      0.71      0.69       200\n",
      "\n"
     ]
    },
    {
     "data": {
      "image/png": "[encoded data removed]",
      "text/plain": [
       "<Figure size 720x720 with 2 Axes>"
      ]
     },
     "metadata": {
      "needs_background": "light"
     },
     "output_type": "display_data"
    }
   ],
   "source": [
    "# todo: add integration test (copy metric derivation from train.ipynb)\n",
    "\n",
    "if __name__ == '__main__':\n",
    "    from great_ai import query_ground_truth\n",
    "    import matplotlib.pyplot as plt\n",
    "    from sklearn import metrics\n",
    "\n",
    "    test_split = query_ground_truth('test', return_max_count=200)\n",
    "\n",
    "    traces = predict_financial_sentiment.process_batch([t.input for t in test_split])\n",
    "    y_predicted = [t.output[0] for t in traces]\n",
    "    y_test = [t.output for t in test_split]\n",
    "\n",
    "    %matplotlib inline\n",
    "    plt.rcParams[\"figure.figsize\"] = (10, 10)\n",
    "    plt.rcParams[\"font.size\"] = 16\n",
    "\n",
    "    print(metrics.classification_report(y_test, y_predicted))\n",
    "    metrics.ConfusionMatrixDisplay.from_predictions(\n",
    "        y_true=y_test,\n",
    "        y_pred=y_predicted,\n",
    "        xticks_rotation=\"vertical\",\n",
    "        normalize=\"pred\",\n",
    "        values_format=\".2f\",\n",
    "    )"
   ]
  },
  {
   "cell_type": "code",
   "execution_count": 4,
   "metadata": {},
   "outputs": [
    {
     "name": "stdout",
     "output_type": "stream",
     "text": [
      "\u001b[38;5;39m2022-08-11 11:14:04 |     INFO | Converting notebook to Python script\u001b[0m\n",
      "\u001b[38;5;39m2022-08-11 11:14:04 |     INFO | Found `predict_financial_sentiment` to be the GreatAI app \u001b[0m\n",
      "\u001b[38;5;39m2022-08-11 11:14:04 |     INFO | Uvicorn running on http://0.0.0.0:6060 (Press CTRL+C to quit)\u001b[0m\n",
      "\u001b[38;5;226m2022-08-11 11:14:06 |  WARNING | Environment variable ENVIRONMENT is not set, defaulting to development mode ‼️\u001b[0m\n",
      "\u001b[38;5;226m2022-08-11 11:14:06 |  WARNING | Cannot find credentials files, defaulting to using ParallelTinyDbDriver\u001b[0m\n",
      "\u001b[38;5;226m2022-08-11 11:14:06 |  WARNING | The selected tracing database (ParallelTinyDbDriver) is not recommended for production\u001b[0m\n",
      "\u001b[38;5;226m2022-08-11 11:14:06 |  WARNING | Cannot find credentials files, defaulting to using LargeFileLocal\u001b[0m\n",
      "\u001b[38;5;39m2022-08-11 11:14:06 |     INFO | GreatAI (v0.1.10): configured ✅\u001b[0m\n",
      "\u001b[38;5;39m2022-08-11 11:14:06 |     INFO |   🔩 tracing_database: ParallelTinyDbDriver\u001b[0m\n",
      "\u001b[38;5;39m2022-08-11 11:14:06 |     INFO |   🔩 large_file_implementation: LargeFileLocal\u001b[0m\n",
      "\u001b[38;5;39m2022-08-11 11:14:06 |     INFO |   🔩 is_production: False\u001b[0m\n",
      "\u001b[38;5;39m2022-08-11 11:14:06 |     INFO |   🔩 should_log_exception_stack: True\u001b[0m\n",
      "\u001b[38;5;39m2022-08-11 11:14:06 |     INFO |   🔩 prediction_cache_size: 512\u001b[0m\n",
      "\u001b[38;5;39m2022-08-11 11:14:06 |     INFO |   🔩 dashboard_table_size: 50\u001b[0m\n",
      "\u001b[38;5;226m2022-08-11 11:14:06 |  WARNING | You still need to check whether you follow all best practices before trusting your deployment.\u001b[0m\n",
      "\u001b[38;5;226m2022-08-11 11:14:06 |  WARNING | > Find out more at https://se-ml.github.io/practices\u001b[0m\n",
      "\u001b[38;5;39m2022-08-11 11:14:06 |     INFO | Fetching cached versions of financial-sentiment\u001b[0m\n",
      "\u001b[38;5;39m2022-08-11 11:14:06 |     INFO | Latest version of financial-sentiment is 1 (from versions: 0, 1)\u001b[0m\n",
      "\u001b[38;5;39m2022-08-11 11:14:06 |     INFO | File financial-sentiment-1 found in cache\u001b[0m\n",
      "\u001b[38;5;39m2022-08-11 11:14:06 |     INFO | Started server process [7439]\u001b[0m\n",
      "\u001b[38;5;39m2022-08-11 11:14:06 |     INFO | Waiting for application startup.\u001b[0m\n",
      "\u001b[38;5;39m2022-08-11 11:14:06 |     INFO | Application startup complete.\u001b[0m\n",
      "^C\n",
      "\u001b[38;5;39m2022-08-11 11:14:09 |     INFO | Shutting down\u001b[0m\n",
      "\u001b[38;5;39m2022-08-11 11:14:09 |     INFO | Waiting for application shutdown.\u001b[0m\n",
      "\u001b[38;5;39m2022-08-11 11:14:09 |     INFO | Application shutdown complete.\u001b[0m\n",
      "\u001b[38;5;39m2022-08-11 11:14:09 |     INFO | Finished server process [7439]\u001b[0m\n"
     ]
    }
   ],
   "source": [
    "# todo: serve prediction model\n",
    "# todo: open dashboard\n",
    "\n",
    "!great-ai deploy_done.ipynb"
   ]
  }
 ],
 "metadata": {
  "kernelspec": {
   "display_name": "Python 3.8.5 ('.env': venv)",
   "language": "python",
   "name": "python3"
  },
  "language_info": {
   "codemirror_mode": {
    "name": "ipython",
    "version": 3
   },
   "file_extension": ".py",
   "mimetype": "text/x-python",
   "name": "python",
   "nbconvert_exporter": "python",
   "pygments_lexer": "ipython3",
   "version": "3.8.5"
  },
  "orig_nbformat": 4,
  "vscode": {
   "interpreter": {
    "hash": "2d14168167fa54a6b45c0bc59cb2c3f9a595bd48203d3180b96450e9d825e160"
   }
  }
 },
 "nbformat": 4,
 "nbformat_minor": 2
}
