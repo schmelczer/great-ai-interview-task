{
 "cells": [
  {
   "cell_type": "code",
   "execution_count": 1,
   "metadata": {},
   "outputs": [],
   "source": [
    "# todo: export the model from train.ipynb\n",
    "\n",
    "# todo: copy import from train.ipynb\n",
    "# todo: copy normalize() from train.ipynb\n",
    "# todo: copy predict() from train.ipynb\n",
    "\n",
    "# todo: inject saved model into predict()\n",
    "# todo: turn predict() into a GreatAI service\n",
    "\n",
    "# todo: log prediction into output trace"
   ]
  },
  {
   "cell_type": "code",
   "execution_count": 2,
   "metadata": {},
   "outputs": [
    {
     "name": "stderr",
     "output_type": "stream",
     "text": [
      "\u001b[38;5;226mEnvironment variable ENVIRONMENT is not set, defaulting to development mode ‼️\u001b[0m\n",
      "\u001b[38;5;226mCannot find credentials files, defaulting to using ParallelTinyDbDriver\u001b[0m\n",
      "\u001b[38;5;226mThe selected tracing database (ParallelTinyDbDriver) is not recommended for production\u001b[0m\n",
      "\u001b[38;5;226mCannot find credentials files, defaulting to using LargeFileLocal\u001b[0m\n",
      "\u001b[38;5;39mGreatAI (v0.1.10): configured ✅\u001b[0m\n",
      "\u001b[38;5;39m  🔩 tracing_database: ParallelTinyDbDriver\u001b[0m\n",
      "\u001b[38;5;39m  🔩 large_file_implementation: LargeFileLocal\u001b[0m\n",
      "\u001b[38;5;39m  🔩 is_production: False\u001b[0m\n",
      "\u001b[38;5;39m  🔩 should_log_exception_stack: True\u001b[0m\n",
      "\u001b[38;5;39m  🔩 prediction_cache_size: 512\u001b[0m\n",
      "\u001b[38;5;39m  🔩 dashboard_table_size: 50\u001b[0m\n",
      "\u001b[38;5;226mYou still need to check whether you follow all best practices before trusting your deployment.\u001b[0m\n",
      "\u001b[38;5;226m> Find out more at https://se-ml.github.io/practices\u001b[0m\n",
      "\u001b[38;5;39mFetching cached versions of financial-sentiment\u001b[0m\n",
      "\u001b[38;5;39mLatest version of financial-sentiment is 0 (from versions: 0)\u001b[0m\n",
      "\u001b[38;5;39mFile financial-sentiment-0 found in cache\u001b[0m\n"
     ]
    }
   ],
   "source": [
    "from great_ai.utilities import clean\n",
    "from great_ai import use_model, GreatAI, log_metric\n",
    "import re\n",
    "\n",
    "def normalize(text: str) -> str:\n",
    "    cleaned = clean(text, convert_to_ascii=True).lower()\n",
    "    return re.sub(r\"[^a-z]+\", \" \", cleaned)\n",
    "\n",
    "@GreatAI.create\n",
    "@use_model('financial-sentiment')\n",
    "def predict_financial_sentiment(text: str, model):\n",
    "    \"\"\"Classify news articles into Negative, Neutral, or Positive classes using a linear SVM.\"\"\"\n",
    "    text = normalize(text)\n",
    "    features = model.named_steps[\"tfidfvectorizer\"].transform([text])\n",
    "    prediction = model.named_steps[\"sgdclassifier\"].predict(features)[0]\n",
    "\n",
    "    explanation = [\n",
    "        (feature_name, weight)\n",
    "        for weight, feature_name in sorted(\n",
    "            (\n",
    "                (feature_weight * feature, feature_name)\n",
    "                for feature_name, feature_weight, feature in zip(\n",
    "                    model.named_steps[\"tfidfvectorizer\"].get_feature_names_out(),\n",
    "                    model.named_steps[\"sgdclassifier\"].coef_[list(model.named_steps[\"sgdclassifier\"].classes_).index(prediction)],\n",
    "                    features.toarray()[0],\n",
    "                )\n",
    "                if feature * feature_weight != 0\n",
    "            ),\n",
    "            reverse=True,\n",
    "        )\n",
    "    ][:10]\n",
    "\n",
    "    log_metric('prediction', prediction, disable_logging=True)\n",
    "\n",
    "    return prediction, explanation"
   ]
  },
  {
   "cell_type": "code",
   "execution_count": 3,
   "metadata": {},
   "outputs": [
    {
     "name": "stderr",
     "output_type": "stream",
     "text": [
      "100%|██████████| 200/200 [00:28<00:00,  7.05it/s]\n"
     ]
    },
    {
     "name": "stdout",
     "output_type": "stream",
     "text": [
      "              precision    recall  f1-score   support\n",
      "\n",
      "    negative       0.72      0.38      0.50        34\n",
      "     neutral       0.72      0.90      0.80       100\n",
      "    positive       0.86      0.74      0.80        66\n",
      "\n",
      "    accuracy                           0.76       200\n",
      "   macro avg       0.77      0.67      0.70       200\n",
      "weighted avg       0.77      0.76      0.75       200\n",
      "\n"
     ]
    },
    {
     "data": {
      "image/png": "[encoded data removed]",
      "text/plain": [
       "<Figure size 720x720 with 2 Axes>"
      ]
     },
     "metadata": {
      "needs_background": "light"
     },
     "output_type": "display_data"
    }
   ],
   "source": [
    "# todo: add integration test (copy metric derivation from train.ipynb)\n",
    "\n",
    "if __name__ == '__main__':\n",
    "    from great_ai import query_ground_truth\n",
    "    import matplotlib.pyplot as plt\n",
    "    from sklearn import metrics\n",
    "\n",
    "    test_split = query_ground_truth('test', return_max_count=200)\n",
    "\n",
    "    traces = predict_financial_sentiment.process_batch([t.input for t in test_split])\n",
    "    y_predicted = [t.output[0] for t in traces]\n",
    "    y_test = [t.output for t in test_split]\n",
    "\n",
    "    %matplotlib inline\n",
    "    plt.rcParams[\"figure.figsize\"] = (10, 10)\n",
    "    plt.rcParams[\"font.size\"] = 16\n",
    "\n",
    "    print(metrics.classification_report(y_test, y_predicted))\n",
    "    metrics.ConfusionMatrixDisplay.from_predictions(\n",
    "        y_true=y_test,\n",
    "        y_pred=y_predicted,\n",
    "        xticks_rotation=\"vertical\",\n",
    "        normalize=\"pred\",\n",
    "        values_format=\".2f\",\n",
    "    )"
   ]
  },
  {
   "cell_type": "code",
   "execution_count": 8,
   "metadata": {},
   "outputs": [
    {
     "name": "stdout",
     "output_type": "stream",
     "text": [
      "\u001b[38;5;39m2022-08-08 13:16:05 |     INFO | Converting notebook to Python script\u001b[0m\n",
      "\u001b[38;5;196m2022-08-08 13:16:05 |    ERROR | local variable 'app_name' referenced before assignment\u001b[0m\n"
     ]
    }
   ],
   "source": [
    "# todo: serve prediction model\n",
    "# todo: open dashboard\n",
    "\n",
    "!great-ai deploy_done.ipynb"
   ]
  }
 ],
 "metadata": {
  "kernelspec": {
   "display_name": "Python 3.8.5 ('.env': venv)",
   "language": "python",
   "name": "python3"
  },
  "language_info": {
   "codemirror_mode": {
    "name": "ipython",
    "version": 3
   },
   "file_extension": ".py",
   "mimetype": "text/x-python",
   "name": "python",
   "nbconvert_exporter": "python",
   "pygments_lexer": "ipython3",
   "version": "3.8.5"
  },
  "orig_nbformat": 4,
  "vscode": {
   "interpreter": {
    "hash": "e0dc90c18746bdc09777f769a185ca5580a11b02153b98d31c3fa7ad1694afce"
   }
  }
 },
 "nbformat": 4,
 "nbformat_minor": 2
}
